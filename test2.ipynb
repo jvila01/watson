{
    "cells": [
        {
            "metadata": {},
            "cell_type": "markdown",
            "source": "Import xml and load sheit"
        },
        {
            "metadata": {},
            "cell_type": "code",
            "source": "\n// @hidden_cell\nimport com.ibm.ibmos2spark.CloudObjectStorage\nvar configurationName = \"os_87ded52ac44a4595b30f8bf7215dc505_configs\"\ndef getCredentials(): scala.collection.mutable.HashMap[String, String] = {\n    return scala.collection.mutable.HashMap[String, String] (\n    \"endPoint\"-> \"https://s3.private.us.cloud-object-storage.appdomain.cloud\",\n    \"apiKey\"->\"zy8Io8qHktgeHEVzu9uKecs7f7Y30lT4pNf6DHHv2IsD\",\n    \"serviceId\"->\"iam-ServiceId-bee80f8f-1444-4a86-b046-b28d6021f540\",\n    \"iamServiceEndpoint\" -> \"https://iam.cloud.ibm.com/oidc/token\")\n}\n\nvar cos = new CloudObjectStorage(sc, getCredentials(), configurationName, \"bluemix_cos\")\n\nimport org.apache.spark.sql.SparkSession\nval spark = SparkSession.\n    builder().\n    getOrCreate()\nval dfData1 = spark.\n    read.format(\"org.apache.spark.sql.execution.datasources.csv.CSVFileFormat\").\n    option(\"header\", \"true\").\n    option(\"inferSchema\", \"true\").\n    load(cos.url(\"test-donotdelete-pr-s103yx0gfzplu8\", \"airlinedata.csv\"))\ndfData1.show(5)\n",
            "execution_count": 1,
            "outputs": [
                {
                    "output_type": "stream",
                    "text": "+----+-----+----------+---------+-------+----------+-------+----------+-------------+---------+-------+-----------------+--------------+-------+--------+--------+------+----+--------+------+-------+---------+----------------+--------+------------+------------+--------+-------------+-----------------+---+\n|Year|Month|DayofMonth|DayOfWeek|DepTime|CRSDepTime|ArrTime|CRSArrTime|UniqueCarrier|FlightNum|TailNum|ActualElapsedTime|CRSElapsedTime|AirTime|ArrDelay|DepDelay|Origin|Dest|Distance|TaxiIn|TaxiOut|Cancelled|CancellationCode|Diverted|CarrierDelay|WeatherDelay|NASDelay|SecurityDelay|LateAircraftDelay|  0|\n+----+-----+----------+---------+-------+----------+-------+----------+-------------+---------+-------+-----------------+--------------+-------+--------+--------+------+----+--------+------+-------+---------+----------------+--------+------------+------------+--------+-------------+-----------------+---+\n|2004|    2|        12|        4|    633|       635|    935|       930|           B6|      165| N553JB|              182|           175|    162|       5|      -2|   JFK| TPA|    1005|     3|     17|        0|             nil|       0|           0|           0|       0|            0|                0|  0|\n|2004|    2|        16|        1|   2115|      2120|   2340|      2350|           B6|      199| N570JB|              325|           330|    114|     -10|      -5|   JFK| LAS|    2248|     8|     23|        0|             nil|       0|           0|           0|       0|            0|                0|  0|\n|2004|    2|        18|        3|    700|       700|    817|       820|           B6|        2| N544JB|               77|            80|     49|      -3|       0|   JFK| BUF|     301|     2|     26|        0|             nil|       0|           0|           0|       0|            0|                0|  0|\n|2004|    2|        19|        4|   1140|      1145|   1427|      1420|           B6|       67| N570JB|              167|           155|    141|       7|      -5|   RSW| JFK|    1074|     7|     19|        0|             nil|       0|           0|           0|       0|            0|                0|  0|\n|2004|    2|        21|        6|    936|       935|   1036|      1035|           B6|       68| N544JB|               60|            60|     41|       1|       1|   JFK| SYR|     209|     3|     16|        0|             nil|       0|           0|           0|       0|            0|                0|  0|\n+----+-----+----------+---------+-------+----------+-------+----------+-------------+---------+-------+-----------------+--------------+-------+--------+--------+------+----+--------+------+-------+---------+----------------+--------+------------+------------+--------+-------------+-----------------+---+\nonly showing top 5 rows\n\n",
                    "name": "stdout"
                },
                {
                    "output_type": "display_data",
                    "data": {
                        "text/plain": "configurationName = os_87ded52ac44a4595b30f8bf7215dc505_configs\ncos = com.ibm.ibmos2spark.CloudObjectStorage@2230985d\nspark = org.apache.spark.sql.SparkSession@7fbb70d9\ndfData1 = [Year: int, Month: int ... 28 more fields]\n"
                    },
                    "metadata": {}
                },
                {
                    "output_type": "display_data",
                    "data": {
                        "text/plain": "getCredentials: ()scala.collection.mutable.HashMap[String,String]\n"
                    },
                    "metadata": {}
                },
                {
                    "output_type": "execute_result",
                    "execution_count": 1,
                    "data": {
                        "text/plain": "[Year: int, Month: int ... 28 more fields]"
                    },
                    "metadata": {}
                }
            ]
        },
        {
            "metadata": {},
            "cell_type": "code",
            "source": "",
            "execution_count": null,
            "outputs": []
        }
    ],
    "metadata": {
        "kernelspec": {
            "name": "scala",
            "display_name": "Scala 2.12 with Spark",
            "language": "scala"
        },
        "language_info": {
            "name": "scala",
            "version": "2.12.15",
            "file_extension": ".scala",
            "pygments_lexer": "scala",
            "mimetype": "text/x-scala",
            "codemirror_mode": "text/x-scala"
        }
    },
    "nbformat": 4,
    "nbformat_minor": 1
}