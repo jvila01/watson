{
    "cells": [
        {
            "cell_type": "markdown",
            "metadata": {
                "collapsed": true
            },
            "source": "# My Jupyter Notebook on IBM Watson Studio"
        },
        {
            "cell_type": "markdown",
            "metadata": {},
            "source": "__Javier Vila__<br>Real Estate Investor / Founder"
        },
        {
            "cell_type": "markdown",
            "metadata": {},
            "source": "_I am interested in data science because I am a very curious individual with a restless engineering mind. I got a PhD in ME and now I want to pursue a new carrier in as a data scientist, and I think I can my Real Estate investments can also get better guidance from it._"
        },
        {
            "cell_type": "markdown",
            "metadata": {},
            "source": "### The code in next cell is suposed to greet you"
        },
        {
            "cell_type": "code",
            "execution_count": 2,
            "metadata": {},
            "outputs": [
                {
                    "name": "stdout",
                    "output_type": "stream",
                    "text": "Hello, new user\n"
                }
            ],
            "source": "greetings = \"Hello\"\nname = \"new user\"\nprint(greetings + ', ' + name)"
        },
        {
            "cell_type": "markdown",
            "metadata": {},
            "source": "<span>This is the end of the file</span>\n<hr>\n<span>I included the following:</span>\n<ul>\n    <li>Title</li>\n    <li>Name and occupation</li>\n    <li>My passion</li>\n    <li>Explanation</li>\n    <li>Code</li>\n    <li>Closing</li>\n</ul>\n<p>For more info on me, check my <a href = \"https://www.linkedin.com/in/j-vila/\">linkedin</a></p>\n<hr>\n    "
        },
        {
            "cell_type": "code",
            "execution_count": null,
            "metadata": {},
            "outputs": [],
            "source": ""
        }
    ],
    "metadata": {
        "kernelspec": {
            "display_name": "Python 3.9",
            "language": "python",
            "name": "python3"
        },
        "language_info": {
            "codemirror_mode": {
                "name": "ipython",
                "version": 3
            },
            "file_extension": ".py",
            "mimetype": "text/x-python",
            "name": "python",
            "nbconvert_exporter": "python",
            "pygments_lexer": "ipython3",
            "version": "3.9.12"
        }
    },
    "nbformat": 4,
    "nbformat_minor": 1
}